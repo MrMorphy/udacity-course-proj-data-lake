{
 "cells": [
  {
   "cell_type": "markdown",
   "id": "297a57bb",
   "metadata": {},
   "source": [
    "## Project: Data Lake with EMR ( Spark & Co. @ AWS )  \n",
    "\n",
    "Creating EMR Cluster ( `\"emr-5.31.0\"` - `Spark 2.4.6`, `Zeppelin 0.8.2`, `Hadoop 2.10.0` ) of AWS  \n",
    "This last EMR Version does have the correct setup up with `JupyterEnterpriseGateway`!\n",
    "\n",
    "### Overview and Steps\n",
    "* Step 0: Create Base Config ( Setup EMR Cluster (with Spark), Create Notebook, Attach Notebook to Cluster )\n",
    "* Step 1: Create Spark Session\n",
    "* Step 2: Define Data Paths and Access Data\n",
    "* Step 3: Process Song Data ( read out, define schemas, write  as parquet )\n",
    "* Step 4: Process Log Data ( read out, define schemas, write as parquet )\n",
    "* Step 5: Run [`etl.py`] script with clean code\n",
    "* Step 6: Clean up Resources ( EMR, Notbook, S3 )\n"
   ]
  },
  {
   "cell_type": "markdown",
   "id": "a05f5b76",
   "metadata": {},
   "source": [
    "*Version 3 **(AWS, EMR)** - Revision 09 - 2023/04/04* \n",
    "*Mr Morphy - [GitHub Profile](https://github.com/MrMorphy)*  \n",
    "*GitHub Project - [udacity-course-proj-data-lake](https://github.com/MrMorphy/udacity-course-proj-data-lake)*"
   ]
  },
  {
   "cell_type": "markdown",
   "id": "fe4b44b8",
   "metadata": {},
   "source": [
    "### Step 0: Create Base Config  \n",
    "* Setup EMR Cluster (with Spark) at AWS UI\n",
    "* Create Notebook at AWS UI\n",
    "* Attach Notebook to 'Waiting' EMR Cluster\n",
    "\n",
    "Load libraries to execute code"
   ]
  },
  {
   "cell_type": "code",
   "execution_count": 1,
   "id": "76365f8e",
   "metadata": {},
   "outputs": [
    {
     "data": {
      "application/vnd.jupyter.widget-view+json": {
       "model_id": "27cd76fefc3c4807b798d619d6b0de1d",
       "version_major": 2,
       "version_minor": 0
      },
      "text/plain": [
       "VBox()"
      ]
     },
     "metadata": {},
     "output_type": "display_data"
    },
    {
     "name": "stdout",
     "output_type": "stream",
     "text": [
      "Starting Spark application\n"
     ]
    },
    {
     "data": {
      "text/html": [
       "<table>\n",
       "<tr><th>ID</th><th>YARN Application ID</th><th>Kind</th><th>State</th><th>Spark UI</th><th>Driver log</th><th>Current session?</th></tr><tr><td>0</td><td>application_1680641614700_0001</td><td>pyspark</td><td>idle</td><td><a target=\"_blank\" href=\"http://ip-172-31-5-17.us-west-2.compute.internal:20888/proxy/application_1680641614700_0001/\">Link</a></td><td><a target=\"_blank\" href=\"http://ip-172-31-12-152.us-west-2.compute.internal:8042/node/containerlogs/container_1680641614700_0001_01_000001/livy\">Link</a></td><td>✔</td></tr></table>"
      ],
      "text/plain": [
       "<IPython.core.display.HTML object>"
      ]
     },
     "metadata": {},
     "output_type": "display_data"
    },
    {
     "data": {
      "application/vnd.jupyter.widget-view+json": {
       "model_id": "",
       "version_major": 2,
       "version_minor": 0
      },
      "text/plain": [
       "FloatProgress(value=0.0, bar_style='info', description='Progress:', layout=Layout(height='25px', width='50%'),…"
      ]
     },
     "metadata": {},
     "output_type": "display_data"
    },
    {
     "name": "stdout",
     "output_type": "stream",
     "text": [
      "SparkSession available as 'spark'.\n"
     ]
    },
    {
     "data": {
      "application/vnd.jupyter.widget-view+json": {
       "model_id": "",
       "version_major": 2,
       "version_minor": 0
      },
      "text/plain": [
       "FloatProgress(value=0.0, bar_style='info', description='Progress:', layout=Layout(height='25px', width='50%'),…"
      ]
     },
     "metadata": {},
     "output_type": "display_data"
    }
   ],
   "source": [
    "#import configparser\n",
    "from datetime import datetime\n",
    "import os"
   ]
  },
  {
   "cell_type": "code",
   "execution_count": 2,
   "id": "03fce393",
   "metadata": {},
   "outputs": [
    {
     "data": {
      "application/vnd.jupyter.widget-view+json": {
       "model_id": "73766af30ed04e3ebb5a0d310fafcc87",
       "version_major": 2,
       "version_minor": 0
      },
      "text/plain": [
       "VBox()"
      ]
     },
     "metadata": {},
     "output_type": "display_data"
    },
    {
     "data": {
      "application/vnd.jupyter.widget-view+json": {
       "model_id": "",
       "version_major": 2,
       "version_minor": 0
      },
      "text/plain": [
       "FloatProgress(value=0.0, bar_style='info', description='Progress:', layout=Layout(height='25px', width='50%'),…"
      ]
     },
     "metadata": {},
     "output_type": "display_data"
    }
   ],
   "source": [
    "from pyspark.sql import SparkSession"
   ]
  },
  {
   "cell_type": "code",
   "execution_count": 3,
   "id": "12846a7e",
   "metadata": {},
   "outputs": [
    {
     "data": {
      "application/vnd.jupyter.widget-view+json": {
       "model_id": "7aa58a414bd24d8e994811596a7c799f",
       "version_major": 2,
       "version_minor": 0
      },
      "text/plain": [
       "VBox()"
      ]
     },
     "metadata": {},
     "output_type": "display_data"
    },
    {
     "data": {
      "application/vnd.jupyter.widget-view+json": {
       "model_id": "",
       "version_major": 2,
       "version_minor": 0
      },
      "text/plain": [
       "FloatProgress(value=0.0, bar_style='info', description='Progress:', layout=Layout(height='25px', width='50%'),…"
      ]
     },
     "metadata": {},
     "output_type": "display_data"
    }
   ],
   "source": [
    "from pyspark.sql.functions import udf, col, monotonically_increasing_id\n",
    "from pyspark.sql.functions import year, month, dayofmonth, hour, weekofyear, date_format"
   ]
  },
  {
   "cell_type": "code",
   "execution_count": 4,
   "id": "57e35cc3",
   "metadata": {},
   "outputs": [
    {
     "data": {
      "application/vnd.jupyter.widget-view+json": {
       "model_id": "d4c7527ca67944c69b986bfd87d070a2",
       "version_major": 2,
       "version_minor": 0
      },
      "text/plain": [
       "VBox()"
      ]
     },
     "metadata": {},
     "output_type": "display_data"
    },
    {
     "data": {
      "application/vnd.jupyter.widget-view+json": {
       "model_id": "",
       "version_major": 2,
       "version_minor": 0
      },
      "text/plain": [
       "FloatProgress(value=0.0, bar_style='info', description='Progress:', layout=Layout(height='25px', width='50%'),…"
      ]
     },
     "metadata": {},
     "output_type": "display_data"
    }
   ],
   "source": [
    "from pyspark.sql.types import StructType as R,    StructField as Fld, \\\n",
    "                              DoubleType as Dbl,  StringType as Str, \\\n",
    "                              IntegerType as Int, DateType as Date, TimestampType"
   ]
  },
  {
   "cell_type": "markdown",
   "id": "82a38023",
   "metadata": {},
   "source": [
    "### Step 1: Create Spark Session"
   ]
  },
  {
   "cell_type": "code",
   "execution_count": 6,
   "id": "47bc1f30",
   "metadata": {},
   "outputs": [
    {
     "data": {
      "application/vnd.jupyter.widget-view+json": {
       "model_id": "7457318bdde64f9383d0e9fe13c16d7c",
       "version_major": 2,
       "version_minor": 0
      },
      "text/plain": [
       "VBox()"
      ]
     },
     "metadata": {},
     "output_type": "display_data"
    },
    {
     "data": {
      "application/vnd.jupyter.widget-view+json": {
       "model_id": "",
       "version_major": 2,
       "version_minor": 0
      },
      "text/plain": [
       "FloatProgress(value=0.0, bar_style='info', description='Progress:', layout=Layout(height='25px', width='50%'),…"
      ]
     },
     "metadata": {},
     "output_type": "display_data"
    },
    {
     "name": "stdout",
     "output_type": "stream",
     "text": [
      "<pyspark.sql.session.SparkSession object at 0x7fc0cb14bdd0>"
     ]
    }
   ],
   "source": [
    "# DEBUG\n",
    "spark"
   ]
  },
  {
   "cell_type": "markdown",
   "id": "f5fa641c",
   "metadata": {},
   "source": [
    "### Step 2: Define Data Paths and Access Data"
   ]
  },
  {
   "cell_type": "code",
   "execution_count": 7,
   "id": "77c87e04",
   "metadata": {},
   "outputs": [
    {
     "data": {
      "application/vnd.jupyter.widget-view+json": {
       "model_id": "39889c54de4a4362b84b1091d5c56789",
       "version_major": 2,
       "version_minor": 0
      },
      "text/plain": [
       "VBox()"
      ]
     },
     "metadata": {},
     "output_type": "display_data"
    },
    {
     "data": {
      "application/vnd.jupyter.widget-view+json": {
       "model_id": "",
       "version_major": 2,
       "version_minor": 0
      },
      "text/plain": [
       "FloatProgress(value=0.0, bar_style='info', description='Progress:', layout=Layout(height='25px', width='50%'),…"
      ]
     },
     "metadata": {},
     "output_type": "display_data"
    }
   ],
   "source": [
    "# AWS: Online @ AWS - S3: \n",
    "input_data  = \"s3a://udacity-dend/\"\n",
    "output_data = \"s3a://data-lake-project-out/\""
   ]
  },
  {
   "cell_type": "markdown",
   "id": "6e433752",
   "metadata": {},
   "source": [
    "### Step 3: Process Song Data  \n",
    "( read out, define schemas, write as parquet )"
   ]
  },
  {
   "cell_type": "code",
   "execution_count": 8,
   "id": "17540f66",
   "metadata": {},
   "outputs": [
    {
     "data": {
      "application/vnd.jupyter.widget-view+json": {
       "model_id": "b30ce05c6a79433886c6e4524f578bbf",
       "version_major": 2,
       "version_minor": 0
      },
      "text/plain": [
       "VBox()"
      ]
     },
     "metadata": {},
     "output_type": "display_data"
    },
    {
     "data": {
      "application/vnd.jupyter.widget-view+json": {
       "model_id": "",
       "version_major": 2,
       "version_minor": 0
      },
      "text/plain": [
       "FloatProgress(value=0.0, bar_style='info', description='Progress:', layout=Layout(height='25px', width='50%'),…"
      ]
     },
     "metadata": {},
     "output_type": "display_data"
    }
   ],
   "source": [
    "# AWS: \n",
    "#def process_song_data(spark, input_data, output_data):\n",
    "\n",
    "# get filepath to FULL SET of song data file [song_data/A/B/C/TRABCEI128F424C983.json]\n",
    "song_data = input_data + 'song_data/*/*/*/*.json'"
   ]
  },
  {
   "cell_type": "code",
   "execution_count": 9,
   "id": "2ce30e93",
   "metadata": {},
   "outputs": [
    {
     "data": {
      "application/vnd.jupyter.widget-view+json": {
       "model_id": "83f2544e0bf945aea8b08f008089cdc3",
       "version_major": 2,
       "version_minor": 0
      },
      "text/plain": [
       "VBox()"
      ]
     },
     "metadata": {},
     "output_type": "display_data"
    },
    {
     "data": {
      "application/vnd.jupyter.widget-view+json": {
       "model_id": "",
       "version_major": 2,
       "version_minor": 0
      },
      "text/plain": [
       "FloatProgress(value=0.0, bar_style='info', description='Progress:', layout=Layout(height='25px', width='50%'),…"
      ]
     },
     "metadata": {},
     "output_type": "display_data"
    }
   ],
   "source": [
    "# define the song schema (like [staging_songs] table)\n",
    "songSchema = R([\n",
    "   Fld(\"artist_id\",        Str()),\n",
    "   Fld(\"artist_latitude\",  Dbl()),\n",
    "   Fld(\"artist_location\",  Str()),\n",
    "   Fld(\"artist_longitude\", Dbl()),\n",
    "   Fld(\"artist_name\",      Str()),\n",
    "   Fld(\"duration\",         Dbl()),\n",
    "   Fld(\"num_songs\",        Int()),\n",
    "   Fld(\"song_id\",          Str()),\n",
    "   Fld(\"title\",            Str()),\n",
    "   Fld(\"year\",             Int()),\n",
    "])"
   ]
  },
  {
   "cell_type": "code",
   "execution_count": 10,
   "id": "58d04e70",
   "metadata": {},
   "outputs": [
    {
     "data": {
      "application/vnd.jupyter.widget-view+json": {
       "model_id": "9d79179a77544790a7289f3695646fb3",
       "version_major": 2,
       "version_minor": 0
      },
      "text/plain": [
       "VBox()"
      ]
     },
     "metadata": {},
     "output_type": "display_data"
    },
    {
     "data": {
      "application/vnd.jupyter.widget-view+json": {
       "model_id": "",
       "version_major": 2,
       "version_minor": 0
      },
      "text/plain": [
       "FloatProgress(value=0.0, bar_style='info', description='Progress:', layout=Layout(height='25px', width='50%'),…"
      ]
     },
     "metadata": {},
     "output_type": "display_data"
    }
   ],
   "source": [
    "# read song data JSON file into data frame\n",
    "df = spark.read.json(song_data, schema=songSchema)"
   ]
  },
  {
   "cell_type": "code",
   "execution_count": 11,
   "id": "a1ee681d",
   "metadata": {},
   "outputs": [
    {
     "data": {
      "application/vnd.jupyter.widget-view+json": {
       "model_id": "94a9aba1fdfd43c296cba2018d27b7c6",
       "version_major": 2,
       "version_minor": 0
      },
      "text/plain": [
       "VBox()"
      ]
     },
     "metadata": {},
     "output_type": "display_data"
    },
    {
     "data": {
      "application/vnd.jupyter.widget-view+json": {
       "model_id": "",
       "version_major": 2,
       "version_minor": 0
      },
      "text/plain": [
       "FloatProgress(value=0.0, bar_style='info', description='Progress:', layout=Layout(height='25px', width='50%'),…"
      ]
     },
     "metadata": {},
     "output_type": "display_data"
    },
    {
     "name": "stdout",
     "output_type": "stream",
     "text": [
      "root\n",
      " |-- artist_id: string (nullable = true)\n",
      " |-- artist_latitude: double (nullable = true)\n",
      " |-- artist_location: string (nullable = true)\n",
      " |-- artist_longitude: double (nullable = true)\n",
      " |-- artist_name: string (nullable = true)\n",
      " |-- duration: double (nullable = true)\n",
      " |-- num_songs: integer (nullable = true)\n",
      " |-- song_id: string (nullable = true)\n",
      " |-- title: string (nullable = true)\n",
      " |-- year: integer (nullable = true)"
     ]
    }
   ],
   "source": [
    "# DEBUG\n",
    "# songSchema given\n",
    "df.printSchema()"
   ]
  },
  {
   "cell_type": "code",
   "execution_count": 13,
   "id": "0eb8529f",
   "metadata": {},
   "outputs": [
    {
     "data": {
      "application/vnd.jupyter.widget-view+json": {
       "model_id": "4cd406f06edc4310b4c40a0a00d8d091",
       "version_major": 2,
       "version_minor": 0
      },
      "text/plain": [
       "VBox()"
      ]
     },
     "metadata": {},
     "output_type": "display_data"
    },
    {
     "data": {
      "application/vnd.jupyter.widget-view+json": {
       "model_id": "",
       "version_major": 2,
       "version_minor": 0
      },
      "text/plain": [
       "FloatProgress(value=0.0, bar_style='info', description='Progress:', layout=Layout(height='25px', width='50%'),…"
      ]
     },
     "metadata": {},
     "output_type": "display_data"
    },
    {
     "name": "stdout",
     "output_type": "stream",
     "text": [
      ">> [14896] songs from song_data read out in JSON-format"
     ]
    }
   ],
   "source": [
    "# df.count()\n",
    "print('>> [' + str(df.count()) + '] songs from song_data read out in JSON-format')"
   ]
  },
  {
   "cell_type": "code",
   "execution_count": 12,
   "id": "0f0b9555",
   "metadata": {},
   "outputs": [
    {
     "data": {
      "application/vnd.jupyter.widget-view+json": {
       "model_id": "854873cbc3b84053a11a791f415c8bbc",
       "version_major": 2,
       "version_minor": 0
      },
      "text/plain": [
       "VBox()"
      ]
     },
     "metadata": {},
     "output_type": "display_data"
    },
    {
     "data": {
      "application/vnd.jupyter.widget-view+json": {
       "model_id": "",
       "version_major": 2,
       "version_minor": 0
      },
      "text/plain": [
       "FloatProgress(value=0.0, bar_style='info', description='Progress:', layout=Layout(height='25px', width='50%'),…"
      ]
     },
     "metadata": {},
     "output_type": "display_data"
    },
    {
     "name": "stdout",
     "output_type": "stream",
     "text": [
      "+------------------+---------------+--------------------+----------------+--------------------+---------+---------+------------------+--------------------+----+\n",
      "|         artist_id|artist_latitude|     artist_location|artist_longitude|         artist_name| duration|num_songs|           song_id|               title|year|\n",
      "+------------------+---------------+--------------------+----------------+--------------------+---------+---------+------------------+--------------------+----+\n",
      "|AR4T2IF1187B9ADBB7|       63.96027|<a href=\"http://b...|        10.22442|          Billy Idol|233.22077|        1|SOVIYJY12AF72A4B00|The Dead Next Doo...|1983|\n",
      "|AR4T2IF1187B9ADBB7|       63.96027|<a href=\"http://b...|        10.22442|          Billy Idol|287.92118|        1|SOVYXYL12AF72A3373|Rebel Yell (1999 ...|1983|\n",
      "|ARQ846I1187B9A7083|           null|                    |            null|Yvonne S. Moriart...|196.04853|        1|SOEPTVC12A67ADD0DA|To Zucchabar [\"Gl...|   0|\n",
      "|AR4T2IF1187B9ADBB7|       63.96027|<a href=\"http://b...|        10.22442|          Billy Idol|247.53587|        1|SOLQYSZ12AB0181F97|    Mony Mony (Live)|1987|\n",
      "|AR3TZ691187FB3DBB1|           null|                    |            null|Russell Watson / ...|273.44934|        1|SOVPFJK12A6701CB16|Barcelona - (Frie...|2000|\n",
      "+------------------+---------------+--------------------+----------------+--------------------+---------+---------+------------------+--------------------+----+\n",
      "only showing top 5 rows"
     ]
    }
   ],
   "source": [
    "# DEBUG\n",
    "df.show(5)"
   ]
  },
  {
   "cell_type": "code",
   "execution_count": 14,
   "id": "1df2aa3a",
   "metadata": {},
   "outputs": [
    {
     "data": {
      "application/vnd.jupyter.widget-view+json": {
       "model_id": "94ce7bc47f3c4aa08cadcc0a82380d9d",
       "version_major": 2,
       "version_minor": 0
      },
      "text/plain": [
       "VBox()"
      ]
     },
     "metadata": {},
     "output_type": "display_data"
    },
    {
     "data": {
      "application/vnd.jupyter.widget-view+json": {
       "model_id": "",
       "version_major": 2,
       "version_minor": 0
      },
      "text/plain": [
       "FloatProgress(value=0.0, bar_style='info', description='Progress:', layout=Layout(height='25px', width='50%'),…"
      ]
     },
     "metadata": {},
     "output_type": "display_data"
    },
    {
     "name": "stdout",
     "output_type": "stream",
     "text": [
      "+---------+---------------+---------------+----------------+-----------+--------+---------+-------+-----+----+\n",
      "|artist_id|artist_latitude|artist_location|artist_longitude|artist_name|duration|num_songs|song_id|title|year|\n",
      "+---------+---------------+---------------+----------------+-----------+--------+---------+-------+-----+----+\n",
      "+---------+---------------+---------------+----------------+-----------+--------+---------+-------+-----+----+"
     ]
    }
   ],
   "source": [
    "# DEBUG\n",
    "df1 = df.filter(df.title == 'Young Boy Blues')\n",
    "df1.show(5)"
   ]
  },
  {
   "cell_type": "markdown",
   "id": "73d79153",
   "metadata": {},
   "source": [
    "## Working with only a subset of the files, to save time!"
   ]
  },
  {
   "cell_type": "code",
   "execution_count": 23,
   "id": "bf30bbb6",
   "metadata": {},
   "outputs": [
    {
     "data": {
      "application/vnd.jupyter.widget-view+json": {
       "model_id": "a0a49e0059244817804019da08068409",
       "version_major": 2,
       "version_minor": 0
      },
      "text/plain": [
       "VBox()"
      ]
     },
     "metadata": {},
     "output_type": "display_data"
    },
    {
     "data": {
      "application/vnd.jupyter.widget-view+json": {
       "model_id": "",
       "version_major": 2,
       "version_minor": 0
      },
      "text/plain": [
       "FloatProgress(value=0.0, bar_style='info', description='Progress:', layout=Layout(height='25px', width='50%'),…"
      ]
     },
     "metadata": {},
     "output_type": "display_data"
    }
   ],
   "source": [
    "# get filepath to song data file [song_data/A/B/C/TRABCEI128F424C983.json]\n",
    "#song_data = input_data + 'song_data/*/*/*/*.json'\n",
    "# Experiement with a subset of data:\n",
    "song_data = input_data + 'song_data/A/A/A/*.json'"
   ]
  },
  {
   "cell_type": "code",
   "execution_count": 24,
   "id": "193a5d79",
   "metadata": {},
   "outputs": [
    {
     "data": {
      "application/vnd.jupyter.widget-view+json": {
       "model_id": "94eade68ee0f4151a8a8bb6cb873c8e5",
       "version_major": 2,
       "version_minor": 0
      },
      "text/plain": [
       "VBox()"
      ]
     },
     "metadata": {},
     "output_type": "display_data"
    },
    {
     "data": {
      "application/vnd.jupyter.widget-view+json": {
       "model_id": "",
       "version_major": 2,
       "version_minor": 0
      },
      "text/plain": [
       "FloatProgress(value=0.0, bar_style='info', description='Progress:', layout=Layout(height='25px', width='50%'),…"
      ]
     },
     "metadata": {},
     "output_type": "display_data"
    }
   ],
   "source": [
    "# read song data JSON file into data frame\n",
    "df = spark.read.json(song_data, schema=songSchema)"
   ]
  },
  {
   "cell_type": "code",
   "execution_count": 25,
   "id": "6052d34a",
   "metadata": {},
   "outputs": [
    {
     "data": {
      "application/vnd.jupyter.widget-view+json": {
       "model_id": "5e1e312db87b4144b4fa4b974d2c10ee",
       "version_major": 2,
       "version_minor": 0
      },
      "text/plain": [
       "VBox()"
      ]
     },
     "metadata": {},
     "output_type": "display_data"
    },
    {
     "data": {
      "application/vnd.jupyter.widget-view+json": {
       "model_id": "",
       "version_major": 2,
       "version_minor": 0
      },
      "text/plain": [
       "FloatProgress(value=0.0, bar_style='info', description='Progress:', layout=Layout(height='25px', width='50%'),…"
      ]
     },
     "metadata": {},
     "output_type": "display_data"
    },
    {
     "name": "stdout",
     "output_type": "stream",
     "text": [
      ">> [24] songs from song_data read out in JSON-format"
     ]
    }
   ],
   "source": [
    "# df.count()\n",
    "print('>> [' + str(df.count()) + '] songs from song_data read out in JSON-format')"
   ]
  },
  {
   "cell_type": "code",
   "execution_count": 16,
   "id": "7ec5bd8e",
   "metadata": {},
   "outputs": [
    {
     "data": {
      "application/vnd.jupyter.widget-view+json": {
       "model_id": "eebc4ebce770490ba06258036992cc06",
       "version_major": 2,
       "version_minor": 0
      },
      "text/plain": [
       "VBox()"
      ]
     },
     "metadata": {},
     "output_type": "display_data"
    },
    {
     "data": {
      "application/vnd.jupyter.widget-view+json": {
       "model_id": "",
       "version_major": 2,
       "version_minor": 0
      },
      "text/plain": [
       "FloatProgress(value=0.0, bar_style='info', description='Progress:', layout=Layout(height='25px', width='50%'),…"
      ]
     },
     "metadata": {},
     "output_type": "display_data"
    },
    {
     "name": "stdout",
     "output_type": "stream",
     "text": [
      "root\n",
      " |-- song_id: string (nullable = true)\n",
      " |-- title: string (nullable = true)\n",
      " |-- artist_id: string (nullable = true)\n",
      " |-- year: integer (nullable = true)\n",
      " |-- duration: double (nullable = true)"
     ]
    }
   ],
   "source": [
    "# DEBUG\n",
    "songs_table.printSchema()"
   ]
  },
  {
   "cell_type": "code",
   "execution_count": 17,
   "id": "72cf4ef9",
   "metadata": {},
   "outputs": [
    {
     "data": {
      "application/vnd.jupyter.widget-view+json": {
       "model_id": "128fede66bb6415a9016f63655eed8ce",
       "version_major": 2,
       "version_minor": 0
      },
      "text/plain": [
       "VBox()"
      ]
     },
     "metadata": {},
     "output_type": "display_data"
    },
    {
     "data": {
      "application/vnd.jupyter.widget-view+json": {
       "model_id": "",
       "version_major": 2,
       "version_minor": 0
      },
      "text/plain": [
       "FloatProgress(value=0.0, bar_style='info', description='Progress:', layout=Layout(height='25px', width='50%'),…"
      ]
     },
     "metadata": {},
     "output_type": "display_data"
    },
    {
     "name": "stdout",
     "output_type": "stream",
     "text": [
      "+------------------+--------------------+------------------+----+---------+\n",
      "|           song_id|               title|         artist_id|year| duration|\n",
      "+------------------+--------------------+------------------+----+---------+\n",
      "|SOIIRYF12AAF3B4858|Pitbulls in the P...|ARZNUT51187FB44098|   0|230.29506|\n",
      "|SOGUKZL12A6D4FDF28|The Apples Are Ju...|ARY1NR31187FB45277|   0|156.39465|\n",
      "|SORXLTC12A81C20B18|La Chiave (feat.S...|ARLN9UN1187FB481FD|   0|198.00771|\n",
      "|SOAIWGK12AB018325D|Bach Prelude In G...|ARTPL6J1187FB4D6FB|1992|136.33261|\n",
      "|SOFZFSD12A8C13DEF4|Sweet Sophia (Alb...|ARYPW621187FB5B49E|2007|191.76444|\n",
      "+------------------+--------------------+------------------+----+---------+\n",
      "only showing top 5 rows"
     ]
    }
   ],
   "source": [
    "# DEBUG\n",
    "songs_table.show(5)"
   ]
  },
  {
   "cell_type": "code",
   "execution_count": 26,
   "id": "b9749372",
   "metadata": {},
   "outputs": [
    {
     "data": {
      "application/vnd.jupyter.widget-view+json": {
       "model_id": "ee248c148d854b81b257026489093da9",
       "version_major": 2,
       "version_minor": 0
      },
      "text/plain": [
       "VBox()"
      ]
     },
     "metadata": {},
     "output_type": "display_data"
    },
    {
     "data": {
      "application/vnd.jupyter.widget-view+json": {
       "model_id": "",
       "version_major": 2,
       "version_minor": 0
      },
      "text/plain": [
       "FloatProgress(value=0.0, bar_style='info', description='Progress:', layout=Layout(height='25px', width='50%'),…"
      ]
     },
     "metadata": {},
     "output_type": "display_data"
    }
   ],
   "source": [
    "# extract columns to create songs table\n",
    "song_columns = [\"song_id\", \"title\", \"artist_id\", \"year\", \"duration\"]\n",
    "songs_table = df.select(song_columns) \\\n",
    "                .dropDuplicates()"
   ]
  },
  {
   "cell_type": "code",
   "execution_count": 28,
   "id": "7e6b35f3",
   "metadata": {},
   "outputs": [
    {
     "data": {
      "application/vnd.jupyter.widget-view+json": {
       "model_id": "7e22eb27f44744e8ae50adfdfb3d6187",
       "version_major": 2,
       "version_minor": 0
      },
      "text/plain": [
       "VBox()"
      ]
     },
     "metadata": {},
     "output_type": "display_data"
    },
    {
     "data": {
      "application/vnd.jupyter.widget-view+json": {
       "model_id": "",
       "version_major": 2,
       "version_minor": 0
      },
      "text/plain": [
       "FloatProgress(value=0.0, bar_style='info', description='Progress:', layout=Layout(height='25px', width='50%'),…"
      ]
     },
     "metadata": {},
     "output_type": "display_data"
    }
   ],
   "source": [
    "# [X] VERIFICADO @ AWS\n",
    "# write songs table to parquet files partitioned by year and artist\n",
    "songs_table.repartition('year', 'artist_id') \\\n",
    "           .write.partitionBy('year', 'artist_id') \\\n",
    "           .parquet(output_data + 'songs_data/songs_table.parquet', 'overwrite')"
   ]
  },
  {
   "cell_type": "code",
   "execution_count": null,
   "id": "63464ce4",
   "metadata": {},
   "outputs": [],
   "source": []
  },
  {
   "cell_type": "code",
   "execution_count": 29,
   "id": "614b8e5e",
   "metadata": {},
   "outputs": [
    {
     "data": {
      "application/vnd.jupyter.widget-view+json": {
       "model_id": "6b891cf944cc4b9da0449c761020ca5e",
       "version_major": 2,
       "version_minor": 0
      },
      "text/plain": [
       "VBox()"
      ]
     },
     "metadata": {},
     "output_type": "display_data"
    },
    {
     "data": {
      "application/vnd.jupyter.widget-view+json": {
       "model_id": "",
       "version_major": 2,
       "version_minor": 0
      },
      "text/plain": [
       "FloatProgress(value=0.0, bar_style='info', description='Progress:', layout=Layout(height='25px', width='50%'),…"
      ]
     },
     "metadata": {},
     "output_type": "display_data"
    }
   ],
   "source": [
    "# extract columns to create artists table\n",
    "artists_column = [\"artist_id\", \"artist_name as name\", \"artist_location as location\", \\\n",
    "                  \"artist_latitude as latitude\", \"artist_longitude as longitude\"]\n",
    "artists_table = df.selectExpr(artists_column).dropDuplicates()"
   ]
  },
  {
   "cell_type": "code",
   "execution_count": 30,
   "id": "435e76bd",
   "metadata": {},
   "outputs": [
    {
     "data": {
      "application/vnd.jupyter.widget-view+json": {
       "model_id": "709af7a5a27f495b85c68d12d4e3954b",
       "version_major": 2,
       "version_minor": 0
      },
      "text/plain": [
       "VBox()"
      ]
     },
     "metadata": {},
     "output_type": "display_data"
    },
    {
     "data": {
      "application/vnd.jupyter.widget-view+json": {
       "model_id": "",
       "version_major": 2,
       "version_minor": 0
      },
      "text/plain": [
       "FloatProgress(value=0.0, bar_style='info', description='Progress:', layout=Layout(height='25px', width='50%'),…"
      ]
     },
     "metadata": {},
     "output_type": "display_data"
    },
    {
     "name": "stdout",
     "output_type": "stream",
     "text": [
      "root\n",
      " |-- artist_id: string (nullable = true)\n",
      " |-- name: string (nullable = true)\n",
      " |-- location: string (nullable = true)\n",
      " |-- latitude: double (nullable = true)\n",
      " |-- longitude: double (nullable = true)"
     ]
    }
   ],
   "source": [
    "# DEBUG\n",
    "artists_table.printSchema()"
   ]
  },
  {
   "cell_type": "code",
   "execution_count": 31,
   "id": "b9ea45f7",
   "metadata": {},
   "outputs": [
    {
     "data": {
      "application/vnd.jupyter.widget-view+json": {
       "model_id": "78b417789b2442d4b3ad4099139af2c7",
       "version_major": 2,
       "version_minor": 0
      },
      "text/plain": [
       "VBox()"
      ]
     },
     "metadata": {},
     "output_type": "display_data"
    },
    {
     "data": {
      "application/vnd.jupyter.widget-view+json": {
       "model_id": "",
       "version_major": 2,
       "version_minor": 0
      },
      "text/plain": [
       "FloatProgress(value=0.0, bar_style='info', description='Progress:', layout=Layout(height='25px', width='50%'),…"
      ]
     },
     "metadata": {},
     "output_type": "display_data"
    },
    {
     "name": "stdout",
     "output_type": "stream",
     "text": [
      "+------------------+----------------+--------------------+--------+----------+\n",
      "|         artist_id|            name|            location|latitude| longitude|\n",
      "+------------------+----------------+--------------------+--------+----------+\n",
      "|ARZKCQM1257509D107|      Dataphiles|                    |    null|      null|\n",
      "|ARKYKXP11F50C47A6A|The Supersuckers|                    |    null|      null|\n",
      "|ARGE7G11187FB37E05|    Cyndi Lauper|        Brooklyn, NY|    null|      null|\n",
      "|ARY589G1187B9A9F4E|     Talkdemonic|        Portland, OR|45.51179|-122.67563|\n",
      "|ARA23XO1187B9AF18F| The Smithereens|Carteret, New Jersey|40.57885| -74.21956|\n",
      "+------------------+----------------+--------------------+--------+----------+\n",
      "only showing top 5 rows"
     ]
    }
   ],
   "source": [
    "# DEBUG\n",
    "artists_table.show(5)"
   ]
  },
  {
   "cell_type": "code",
   "execution_count": 32,
   "id": "e4d430fd",
   "metadata": {},
   "outputs": [
    {
     "data": {
      "application/vnd.jupyter.widget-view+json": {
       "model_id": "2258c289b21f43d592c8df91702598cf",
       "version_major": 2,
       "version_minor": 0
      },
      "text/plain": [
       "VBox()"
      ]
     },
     "metadata": {},
     "output_type": "display_data"
    },
    {
     "data": {
      "application/vnd.jupyter.widget-view+json": {
       "model_id": "",
       "version_major": 2,
       "version_minor": 0
      },
      "text/plain": [
       "FloatProgress(value=0.0, bar_style='info', description='Progress:', layout=Layout(height='25px', width='50%'),…"
      ]
     },
     "metadata": {},
     "output_type": "display_data"
    }
   ],
   "source": [
    "# write artists table to parquet files\n",
    "artists_table.write.parquet(output_data + 'artists_data/artists_table.parquet', 'overwrite')"
   ]
  },
  {
   "cell_type": "markdown",
   "id": "81f6a6ff",
   "metadata": {},
   "source": [
    "### Step 4: Process Log Data  \n",
    "( read out, define schemas, write as parquet )"
   ]
  },
  {
   "cell_type": "code",
   "execution_count": 33,
   "id": "8fb80896",
   "metadata": {},
   "outputs": [
    {
     "data": {
      "application/vnd.jupyter.widget-view+json": {
       "model_id": "3d4bbd6202ba4860a39b684c30d43873",
       "version_major": 2,
       "version_minor": 0
      },
      "text/plain": [
       "VBox()"
      ]
     },
     "metadata": {},
     "output_type": "display_data"
    },
    {
     "data": {
      "application/vnd.jupyter.widget-view+json": {
       "model_id": "",
       "version_major": 2,
       "version_minor": 0
      },
      "text/plain": [
       "FloatProgress(value=0.0, bar_style='info', description='Progress:', layout=Layout(height='25px', width='50%'),…"
      ]
     },
     "metadata": {},
     "output_type": "display_data"
    }
   ],
   "source": [
    "# AWS: \n",
    "#def process_log_data(spark, input_data, output_data):\n",
    "\n",
    "# get filepath to FULL Data Set log data file [log_data/2018/11/2018-11-17-events.json]\n",
    "log_data = input_data + 'log_data/*/*/*.json'"
   ]
  },
  {
   "cell_type": "code",
   "execution_count": 34,
   "id": "47d14c41",
   "metadata": {},
   "outputs": [
    {
     "data": {
      "application/vnd.jupyter.widget-view+json": {
       "model_id": "239fda2d88c34375aef03900804f54ee",
       "version_major": 2,
       "version_minor": 0
      },
      "text/plain": [
       "VBox()"
      ]
     },
     "metadata": {},
     "output_type": "display_data"
    },
    {
     "data": {
      "application/vnd.jupyter.widget-view+json": {
       "model_id": "",
       "version_major": 2,
       "version_minor": 0
      },
      "text/plain": [
       "FloatProgress(value=0.0, bar_style='info', description='Progress:', layout=Layout(height='25px', width='50%'),…"
      ]
     },
     "metadata": {},
     "output_type": "display_data"
    }
   ],
   "source": [
    "# read log data file into data frame\n",
    "df = spark.read.json(log_data)"
   ]
  },
  {
   "cell_type": "code",
   "execution_count": 35,
   "id": "cd323b6a",
   "metadata": {},
   "outputs": [
    {
     "data": {
      "application/vnd.jupyter.widget-view+json": {
       "model_id": "cd0ae23864ad49bd9839926af024fa0d",
       "version_major": 2,
       "version_minor": 0
      },
      "text/plain": [
       "VBox()"
      ]
     },
     "metadata": {},
     "output_type": "display_data"
    },
    {
     "data": {
      "application/vnd.jupyter.widget-view+json": {
       "model_id": "",
       "version_major": 2,
       "version_minor": 0
      },
      "text/plain": [
       "FloatProgress(value=0.0, bar_style='info', description='Progress:', layout=Layout(height='25px', width='50%'),…"
      ]
     },
     "metadata": {},
     "output_type": "display_data"
    },
    {
     "name": "stdout",
     "output_type": "stream",
     "text": [
      ">> [8056] logs entries read IN, of JSON logs_data"
     ]
    }
   ],
   "source": [
    "# number of lines\n",
    "# df.count()\n",
    "print('>> [' + str(df.count()) + '] logs entries read IN, of JSON logs_data')"
   ]
  },
  {
   "cell_type": "code",
   "execution_count": 36,
   "id": "0d5be7dd",
   "metadata": {},
   "outputs": [
    {
     "data": {
      "application/vnd.jupyter.widget-view+json": {
       "model_id": "570f7ad5519e46e7975e94dc965e8fca",
       "version_major": 2,
       "version_minor": 0
      },
      "text/plain": [
       "VBox()"
      ]
     },
     "metadata": {},
     "output_type": "display_data"
    },
    {
     "data": {
      "application/vnd.jupyter.widget-view+json": {
       "model_id": "",
       "version_major": 2,
       "version_minor": 0
      },
      "text/plain": [
       "FloatProgress(value=0.0, bar_style='info', description='Progress:', layout=Layout(height='25px', width='50%'),…"
      ]
     },
     "metadata": {},
     "output_type": "display_data"
    },
    {
     "name": "stdout",
     "output_type": "stream",
     "text": [
      "root\n",
      " |-- artist: string (nullable = true)\n",
      " |-- auth: string (nullable = true)\n",
      " |-- firstName: string (nullable = true)\n",
      " |-- gender: string (nullable = true)\n",
      " |-- itemInSession: long (nullable = true)\n",
      " |-- lastName: string (nullable = true)\n",
      " |-- length: double (nullable = true)\n",
      " |-- level: string (nullable = true)\n",
      " |-- location: string (nullable = true)\n",
      " |-- method: string (nullable = true)\n",
      " |-- page: string (nullable = true)\n",
      " |-- registration: double (nullable = true)\n",
      " |-- sessionId: long (nullable = true)\n",
      " |-- song: string (nullable = true)\n",
      " |-- status: long (nullable = true)\n",
      " |-- ts: long (nullable = true)\n",
      " |-- userAgent: string (nullable = true)\n",
      " |-- userId: string (nullable = true)"
     ]
    }
   ],
   "source": [
    "# DEBUG\n",
    "df.printSchema()"
   ]
  },
  {
   "cell_type": "markdown",
   "id": "ce8ed9cf",
   "metadata": {},
   "source": [
    "## Working with only a subset of the files, to save time!"
   ]
  },
  {
   "cell_type": "code",
   "execution_count": 37,
   "id": "fa0897c8",
   "metadata": {},
   "outputs": [
    {
     "data": {
      "application/vnd.jupyter.widget-view+json": {
       "model_id": "0c18f231de144aceaf15991ed842666a",
       "version_major": 2,
       "version_minor": 0
      },
      "text/plain": [
       "VBox()"
      ]
     },
     "metadata": {},
     "output_type": "display_data"
    },
    {
     "data": {
      "application/vnd.jupyter.widget-view+json": {
       "model_id": "",
       "version_major": 2,
       "version_minor": 0
      },
      "text/plain": [
       "FloatProgress(value=0.0, bar_style='info', description='Progress:', layout=Layout(height='25px', width='50%'),…"
      ]
     },
     "metadata": {},
     "output_type": "display_data"
    }
   ],
   "source": [
    "# 1) experiment with a subset of the files, \n",
    "# 2) and with local data (extract before from /data/log-data.zip)\n",
    "log_data = input_data + 'log_data/2018/11/*.json'"
   ]
  },
  {
   "cell_type": "code",
   "execution_count": 38,
   "id": "f5a51268",
   "metadata": {},
   "outputs": [
    {
     "data": {
      "application/vnd.jupyter.widget-view+json": {
       "model_id": "58611e0e486c4e349b6d786d041a5abd",
       "version_major": 2,
       "version_minor": 0
      },
      "text/plain": [
       "VBox()"
      ]
     },
     "metadata": {},
     "output_type": "display_data"
    },
    {
     "data": {
      "application/vnd.jupyter.widget-view+json": {
       "model_id": "",
       "version_major": 2,
       "version_minor": 0
      },
      "text/plain": [
       "FloatProgress(value=0.0, bar_style='info', description='Progress:', layout=Layout(height='25px', width='50%'),…"
      ]
     },
     "metadata": {},
     "output_type": "display_data"
    }
   ],
   "source": [
    "# read log data file into data frame\n",
    "df = spark.read.json(log_data)"
   ]
  },
  {
   "cell_type": "code",
   "execution_count": 39,
   "id": "9d98e81b",
   "metadata": {},
   "outputs": [
    {
     "data": {
      "application/vnd.jupyter.widget-view+json": {
       "model_id": "f32b81eec5d449249d4e879778fbf21c",
       "version_major": 2,
       "version_minor": 0
      },
      "text/plain": [
       "VBox()"
      ]
     },
     "metadata": {},
     "output_type": "display_data"
    },
    {
     "data": {
      "application/vnd.jupyter.widget-view+json": {
       "model_id": "",
       "version_major": 2,
       "version_minor": 0
      },
      "text/plain": [
       "FloatProgress(value=0.0, bar_style='info', description='Progress:', layout=Layout(height='25px', width='50%'),…"
      ]
     },
     "metadata": {},
     "output_type": "display_data"
    },
    {
     "name": "stdout",
     "output_type": "stream",
     "text": [
      ">> [8056] logs entries read IN, of JSON logs_data"
     ]
    }
   ],
   "source": [
    "# number of lines\n",
    "# df.count()\n",
    "print('>> [' + str(df.count()) + '] logs entries read IN, of JSON logs_data')"
   ]
  },
  {
   "cell_type": "code",
   "execution_count": 40,
   "id": "55cff7a3",
   "metadata": {},
   "outputs": [
    {
     "data": {
      "application/vnd.jupyter.widget-view+json": {
       "model_id": "0ba903e3989f4f35aa12d0fe198ae85d",
       "version_major": 2,
       "version_minor": 0
      },
      "text/plain": [
       "VBox()"
      ]
     },
     "metadata": {},
     "output_type": "display_data"
    },
    {
     "data": {
      "application/vnd.jupyter.widget-view+json": {
       "model_id": "",
       "version_major": 2,
       "version_minor": 0
      },
      "text/plain": [
       "FloatProgress(value=0.0, bar_style='info', description='Progress:', layout=Layout(height='25px', width='50%'),…"
      ]
     },
     "metadata": {},
     "output_type": "display_data"
    },
    {
     "name": "stdout",
     "output_type": "stream",
     "text": [
      "+-----------+---------+---------+------+-------------+--------+---------+-----+--------------------+------+--------+-----------------+---------+---------------+------+-------------+--------------------+------+\n",
      "|     artist|     auth|firstName|gender|itemInSession|lastName|   length|level|            location|method|    page|     registration|sessionId|           song|status|           ts|           userAgent|userId|\n",
      "+-----------+---------+---------+------+-------------+--------+---------+-----+--------------------+------+--------+-----------------+---------+---------------+------+-------------+--------------------+------+\n",
      "|   Harmonia|Logged In|     Ryan|     M|            0|   Smith|655.77751| free|San Jose-Sunnyval...|   PUT|NextSong|1.541016707796E12|      583|  Sehr kosmisch|   200|1542241826796|\"Mozilla/5.0 (X11...|    26|\n",
      "|The Prodigy|Logged In|     Ryan|     M|            1|   Smith|260.07465| free|San Jose-Sunnyval...|   PUT|NextSong|1.541016707796E12|      583|The Big Gundown|   200|1542242481796|\"Mozilla/5.0 (X11...|    26|\n",
      "|      Train|Logged In|     Ryan|     M|            2|   Smith|205.45261| free|San Jose-Sunnyval...|   PUT|NextSong|1.541016707796E12|      583|       Marry Me|   200|1542242741796|\"Mozilla/5.0 (X11...|    26|\n",
      "|       null|Logged In|    Wyatt|     M|            0|   Scott|     null| free|Eureka-Arcata-For...|   GET|    Home|1.540872073796E12|      563|           null|   200|1542247071796|Mozilla/5.0 (Wind...|     9|\n",
      "|       null|Logged In|   Austin|     M|            0| Rosales|     null| free|New York-Newark-J...|   GET|    Home|1.541059521796E12|      521|           null|   200|1542252577796|Mozilla/5.0 (Wind...|    12|\n",
      "+-----------+---------+---------+------+-------------+--------+---------+-----+--------------------+------+--------+-----------------+---------+---------------+------+-------------+--------------------+------+\n",
      "only showing top 5 rows"
     ]
    }
   ],
   "source": [
    "# DEBUG\n",
    "df.show(5)"
   ]
  },
  {
   "cell_type": "code",
   "execution_count": 41,
   "id": "00ecbf26",
   "metadata": {},
   "outputs": [
    {
     "data": {
      "application/vnd.jupyter.widget-view+json": {
       "model_id": "c4a4f12d52744ed58e4c49d5c3d6e006",
       "version_major": 2,
       "version_minor": 0
      },
      "text/plain": [
       "VBox()"
      ]
     },
     "metadata": {},
     "output_type": "display_data"
    },
    {
     "data": {
      "application/vnd.jupyter.widget-view+json": {
       "model_id": "",
       "version_major": 2,
       "version_minor": 0
      },
      "text/plain": [
       "FloatProgress(value=0.0, bar_style='info', description='Progress:', layout=Layout(height='25px', width='50%'),…"
      ]
     },
     "metadata": {},
     "output_type": "display_data"
    }
   ],
   "source": [
    "# filter by actions for song plays\n",
    "df = df.filter(df.page == 'NextSong')"
   ]
  },
  {
   "cell_type": "code",
   "execution_count": 42,
   "id": "2fb621ed",
   "metadata": {},
   "outputs": [
    {
     "data": {
      "application/vnd.jupyter.widget-view+json": {
       "model_id": "1d615579f10148b1a3bd136c7a80a882",
       "version_major": 2,
       "version_minor": 0
      },
      "text/plain": [
       "VBox()"
      ]
     },
     "metadata": {},
     "output_type": "display_data"
    },
    {
     "data": {
      "application/vnd.jupyter.widget-view+json": {
       "model_id": "",
       "version_major": 2,
       "version_minor": 0
      },
      "text/plain": [
       "FloatProgress(value=0.0, bar_style='info', description='Progress:', layout=Layout(height='25px', width='50%'),…"
      ]
     },
     "metadata": {},
     "output_type": "display_data"
    },
    {
     "name": "stdout",
     "output_type": "stream",
     "text": [
      ">> [6820] songs filtered \"NextSong\" of logs_data"
     ]
    }
   ],
   "source": [
    "# number of reduce amount of lines\n",
    "# df.count()\n",
    "print('>> [' + str(df.count()) + '] songs filtered \"NextSong\" of logs_data')"
   ]
  },
  {
   "cell_type": "code",
   "execution_count": 43,
   "id": "f1f0060b",
   "metadata": {},
   "outputs": [
    {
     "data": {
      "application/vnd.jupyter.widget-view+json": {
       "model_id": "4577c24ef29a441fb738bf75b19956b8",
       "version_major": 2,
       "version_minor": 0
      },
      "text/plain": [
       "VBox()"
      ]
     },
     "metadata": {},
     "output_type": "display_data"
    },
    {
     "data": {
      "application/vnd.jupyter.widget-view+json": {
       "model_id": "",
       "version_major": 2,
       "version_minor": 0
      },
      "text/plain": [
       "FloatProgress(value=0.0, bar_style='info', description='Progress:', layout=Layout(height='25px', width='50%'),…"
      ]
     },
     "metadata": {},
     "output_type": "display_data"
    }
   ],
   "source": [
    "# extract columns for USERS table    \n",
    "# artists_table =  # TYPO at resources (*.zip)!\n",
    "users_columns = [\"userId as user_id\", \"firstName as first_name\", \\\n",
    "                 \"lastName as last_name\", \"gender\", \"level\"]\n",
    "users_table = df.selectExpr(users_columns).dropDuplicates()"
   ]
  },
  {
   "cell_type": "code",
   "execution_count": 44,
   "id": "a49b5f9b",
   "metadata": {},
   "outputs": [
    {
     "data": {
      "application/vnd.jupyter.widget-view+json": {
       "model_id": "6b4264b012394da886012329ab1d2e73",
       "version_major": 2,
       "version_minor": 0
      },
      "text/plain": [
       "VBox()"
      ]
     },
     "metadata": {},
     "output_type": "display_data"
    },
    {
     "data": {
      "application/vnd.jupyter.widget-view+json": {
       "model_id": "",
       "version_major": 2,
       "version_minor": 0
      },
      "text/plain": [
       "FloatProgress(value=0.0, bar_style='info', description='Progress:', layout=Layout(height='25px', width='50%'),…"
      ]
     },
     "metadata": {},
     "output_type": "display_data"
    },
    {
     "name": "stdout",
     "output_type": "stream",
     "text": [
      "root\n",
      " |-- user_id: string (nullable = true)\n",
      " |-- first_name: string (nullable = true)\n",
      " |-- last_name: string (nullable = true)\n",
      " |-- gender: string (nullable = true)\n",
      " |-- level: string (nullable = true)"
     ]
    }
   ],
   "source": [
    "# DEBUG\n",
    "users_table.printSchema()"
   ]
  },
  {
   "cell_type": "code",
   "execution_count": 45,
   "id": "f55fab4e",
   "metadata": {},
   "outputs": [
    {
     "data": {
      "application/vnd.jupyter.widget-view+json": {
       "model_id": "07c7cecf413c4220abadf186ec5a8cf4",
       "version_major": 2,
       "version_minor": 0
      },
      "text/plain": [
       "VBox()"
      ]
     },
     "metadata": {},
     "output_type": "display_data"
    },
    {
     "data": {
      "application/vnd.jupyter.widget-view+json": {
       "model_id": "",
       "version_major": 2,
       "version_minor": 0
      },
      "text/plain": [
       "FloatProgress(value=0.0, bar_style='info', description='Progress:', layout=Layout(height='25px', width='50%'),…"
      ]
     },
     "metadata": {},
     "output_type": "display_data"
    },
    {
     "name": "stdout",
     "output_type": "stream",
     "text": [
      "+-------+----------+---------+------+-----+\n",
      "|user_id|first_name|last_name|gender|level|\n",
      "+-------+----------+---------+------+-----+\n",
      "|     81|    Sienna|    Colon|     F| free|\n",
      "|     75|    Joseph|Gutierrez|     M| free|\n",
      "|     47|    Kimber|   Norris|     F| free|\n",
      "|     20|     Aiden|  Ramirez|     M| paid|\n",
      "|     90|    Andrea|   Butler|     F| free|\n",
      "+-------+----------+---------+------+-----+\n",
      "only showing top 5 rows"
     ]
    }
   ],
   "source": [
    "# DEBUG\n",
    "users_table.show(5)"
   ]
  },
  {
   "cell_type": "code",
   "execution_count": 46,
   "id": "461a64c7",
   "metadata": {},
   "outputs": [
    {
     "data": {
      "application/vnd.jupyter.widget-view+json": {
       "model_id": "35874915ee0847d59186a705a0a960cf",
       "version_major": 2,
       "version_minor": 0
      },
      "text/plain": [
       "VBox()"
      ]
     },
     "metadata": {},
     "output_type": "display_data"
    },
    {
     "data": {
      "application/vnd.jupyter.widget-view+json": {
       "model_id": "",
       "version_major": 2,
       "version_minor": 0
      },
      "text/plain": [
       "FloatProgress(value=0.0, bar_style='info', description='Progress:', layout=Layout(height='25px', width='50%'),…"
      ]
     },
     "metadata": {},
     "output_type": "display_data"
    }
   ],
   "source": [
    "# write USERS table to parquet files\n",
    "users_table.write.parquet(output_data + 'users_data/users_table.parquet', 'overwrite')"
   ]
  },
  {
   "cell_type": "code",
   "execution_count": 47,
   "id": "961de1bb",
   "metadata": {},
   "outputs": [
    {
     "data": {
      "application/vnd.jupyter.widget-view+json": {
       "model_id": "1b4304686b4d4a6fae6aad56361ecf89",
       "version_major": 2,
       "version_minor": 0
      },
      "text/plain": [
       "VBox()"
      ]
     },
     "metadata": {},
     "output_type": "display_data"
    },
    {
     "data": {
      "application/vnd.jupyter.widget-view+json": {
       "model_id": "",
       "version_major": 2,
       "version_minor": 0
      },
      "text/plain": [
       "FloatProgress(value=0.0, bar_style='info', description='Progress:', layout=Layout(height='25px', width='50%'),…"
      ]
     },
     "metadata": {},
     "output_type": "display_data"
    }
   ],
   "source": [
    "# create \"timestamp\" column from original timestamp (\"ts\") column\n",
    "get_datetime = udf(lambda x: str( datetime.fromtimestamp( int(x)/1000.0 )) )\n",
    "dfTimestamp = df.withColumn(\"start_time\", get_datetime(df.ts))"
   ]
  },
  {
   "cell_type": "code",
   "execution_count": 48,
   "id": "21692ddd",
   "metadata": {},
   "outputs": [
    {
     "data": {
      "application/vnd.jupyter.widget-view+json": {
       "model_id": "53bb912e04ce4633a03d5518dfd58a8d",
       "version_major": 2,
       "version_minor": 0
      },
      "text/plain": [
       "VBox()"
      ]
     },
     "metadata": {},
     "output_type": "display_data"
    },
    {
     "data": {
      "application/vnd.jupyter.widget-view+json": {
       "model_id": "",
       "version_major": 2,
       "version_minor": 0
      },
      "text/plain": [
       "FloatProgress(value=0.0, bar_style='info', description='Progress:', layout=Layout(height='25px', width='50%'),…"
      ]
     },
     "metadata": {},
     "output_type": "display_data"
    }
   ],
   "source": [
    "# extract columns to create time table\n",
    "time_table = dfTimestamp.select(\"start_time\").dropDuplicates() \\\n",
    "                        .withColumn(\"hour\",    hour(col(\"start_time\"))) \\\n",
    "                        .withColumn(\"day\",     dayofmonth(col(\"start_time\"))) \\\n",
    "                        .withColumn(\"week\",    weekofyear(col(\"start_time\"))) \\\n",
    "                        .withColumn(\"month\",   month(col(\"start_time\"))) \\\n",
    "                        .withColumn(\"year\",    year(col(\"start_time\"))) \\\n",
    "                        .withColumn(\"weekday\", date_format(col(\"start_time\"), 'E'))"
   ]
  },
  {
   "cell_type": "code",
   "execution_count": 50,
   "id": "d4bb6f3f",
   "metadata": {},
   "outputs": [
    {
     "data": {
      "application/vnd.jupyter.widget-view+json": {
       "model_id": "bb2cb9678e8b418cb3e10868fabbfe5b",
       "version_major": 2,
       "version_minor": 0
      },
      "text/plain": [
       "VBox()"
      ]
     },
     "metadata": {},
     "output_type": "display_data"
    },
    {
     "data": {
      "application/vnd.jupyter.widget-view+json": {
       "model_id": "",
       "version_major": 2,
       "version_minor": 0
      },
      "text/plain": [
       "FloatProgress(value=0.0, bar_style='info', description='Progress:', layout=Layout(height='25px', width='50%'),…"
      ]
     },
     "metadata": {},
     "output_type": "display_data"
    },
    {
     "name": "stdout",
     "output_type": "stream",
     "text": [
      "root\n",
      " |-- start_time: string (nullable = true)\n",
      " |-- hour: integer (nullable = true)\n",
      " |-- day: integer (nullable = true)\n",
      " |-- week: integer (nullable = true)\n",
      " |-- month: integer (nullable = true)\n",
      " |-- year: integer (nullable = true)\n",
      " |-- weekday: string (nullable = true)\n",
      "\n",
      "+--------------------+----+---+----+-----+----+-------+\n",
      "|          start_time|hour|day|week|month|year|weekday|\n",
      "+--------------------+----+---+----+-----+----+-------+\n",
      "|2018-11-15 07:51:...|   7| 15|  46|   11|2018|    Thu|\n",
      "|2018-11-15 10:53:...|  10| 15|  46|   11|2018|    Thu|\n",
      "|2018-11-21 09:13:...|   9| 21|  47|   11|2018|    Wed|\n",
      "|2018-11-15 17:10:...|  17| 15|  46|   11|2018|    Thu|\n",
      "|2018-11-15 14:34:...|  14| 15|  46|   11|2018|    Thu|\n",
      "+--------------------+----+---+----+-----+----+-------+\n",
      "only showing top 5 rows"
     ]
    }
   ],
   "source": [
    "# DEBUG\n",
    "time_table.printSchema()\n",
    "time_table.show(5)"
   ]
  },
  {
   "cell_type": "code",
   "execution_count": 49,
   "id": "c2b03592",
   "metadata": {},
   "outputs": [
    {
     "data": {
      "application/vnd.jupyter.widget-view+json": {
       "model_id": "2028fe2ae04e45c39be4c12b170a8445",
       "version_major": 2,
       "version_minor": 0
      },
      "text/plain": [
       "VBox()"
      ]
     },
     "metadata": {},
     "output_type": "display_data"
    },
    {
     "data": {
      "application/vnd.jupyter.widget-view+json": {
       "model_id": "",
       "version_major": 2,
       "version_minor": 0
      },
      "text/plain": [
       "FloatProgress(value=0.0, bar_style='info', description='Progress:', layout=Layout(height='25px', width='50%'),…"
      ]
     },
     "metadata": {},
     "output_type": "display_data"
    }
   ],
   "source": [
    "# write time table to parquet files partitioned by year and month\n",
    "time_table.repartition('year', 'month') \\\n",
    "          .write.partitionBy(\"year\", \"month\") \\\n",
    "          .parquet(output_data + 'time_data/time_table.parquet', 'overwrite')"
   ]
  },
  {
   "cell_type": "markdown",
   "id": "ed728847",
   "metadata": {},
   "source": [
    "### Preparation and Code for `songplays_table`"
   ]
  },
  {
   "cell_type": "code",
   "execution_count": 52,
   "id": "5b2d2484",
   "metadata": {},
   "outputs": [
    {
     "data": {
      "application/vnd.jupyter.widget-view+json": {
       "model_id": "1f3fdd84a35d4df28019bde877a7c8c0",
       "version_major": 2,
       "version_minor": 0
      },
      "text/plain": [
       "VBox()"
      ]
     },
     "metadata": {},
     "output_type": "display_data"
    },
    {
     "data": {
      "application/vnd.jupyter.widget-view+json": {
       "model_id": "",
       "version_major": 2,
       "version_minor": 0
      },
      "text/plain": [
       "FloatProgress(value=0.0, bar_style='info', description='Progress:', layout=Layout(height='25px', width='50%'),…"
      ]
     },
     "metadata": {},
     "output_type": "display_data"
    }
   ],
   "source": [
    "get_datetime = udf(lambda x: str( datetime.fromtimestamp( int(x)/1000.0 )) )\n",
    "df = df.withColumn(\"start_time\", get_datetime(df.ts))\n",
    "df = df.withColumn(\"year\",       year(col(\"start_time\")))\n",
    "df = df.withColumn(\"month\",      month(col(\"start_time\")))"
   ]
  },
  {
   "cell_type": "code",
   "execution_count": 55,
   "id": "c970ac07",
   "metadata": {},
   "outputs": [
    {
     "data": {
      "application/vnd.jupyter.widget-view+json": {
       "model_id": "f10e0ab6206d43ea88828cb0240c87c7",
       "version_major": 2,
       "version_minor": 0
      },
      "text/plain": [
       "VBox()"
      ]
     },
     "metadata": {},
     "output_type": "display_data"
    },
    {
     "data": {
      "application/vnd.jupyter.widget-view+json": {
       "model_id": "",
       "version_major": 2,
       "version_minor": 0
      },
      "text/plain": [
       "FloatProgress(value=0.0, bar_style='info', description='Progress:', layout=Layout(height='25px', width='50%'),…"
      ]
     },
     "metadata": {},
     "output_type": "display_data"
    },
    {
     "name": "stdout",
     "output_type": "stream",
     "text": [
      "root\n",
      " |-- artist: string (nullable = true)\n",
      " |-- auth: string (nullable = true)\n",
      " |-- firstName: string (nullable = true)\n",
      " |-- gender: string (nullable = true)\n",
      " |-- itemInSession: long (nullable = true)\n",
      " |-- lastName: string (nullable = true)\n",
      " |-- length: double (nullable = true)\n",
      " |-- level: string (nullable = true)\n",
      " |-- location: string (nullable = true)\n",
      " |-- method: string (nullable = true)\n",
      " |-- page: string (nullable = true)\n",
      " |-- registration: double (nullable = true)\n",
      " |-- sessionId: long (nullable = true)\n",
      " |-- song: string (nullable = true)\n",
      " |-- status: long (nullable = true)\n",
      " |-- ts: long (nullable = true)\n",
      " |-- userAgent: string (nullable = true)\n",
      " |-- userId: string (nullable = true)\n",
      " |-- start_time: string (nullable = true)\n",
      " |-- year: integer (nullable = true)\n",
      " |-- month: integer (nullable = true)\n",
      "\n",
      "+-----------+---------+---------+------+-------------+--------+---------+-----+--------------------+------+--------+-----------------+---------+--------------------+------+-------------+--------------------+------+--------------------+----+-----+\n",
      "|     artist|     auth|firstName|gender|itemInSession|lastName|   length|level|            location|method|    page|     registration|sessionId|                song|status|           ts|           userAgent|userId|          start_time|year|month|\n",
      "+-----------+---------+---------+------+-------------+--------+---------+-----+--------------------+------+--------+-----------------+---------+--------------------+------+-------------+--------------------+------+--------------------+----+-----+\n",
      "|   Harmonia|Logged In|     Ryan|     M|            0|   Smith|655.77751| free|San Jose-Sunnyval...|   PUT|NextSong|1.541016707796E12|      583|       Sehr kosmisch|   200|1542241826796|\"Mozilla/5.0 (X11...|    26|2018-11-15 00:30:...|2018|   11|\n",
      "|The Prodigy|Logged In|     Ryan|     M|            1|   Smith|260.07465| free|San Jose-Sunnyval...|   PUT|NextSong|1.541016707796E12|      583|     The Big Gundown|   200|1542242481796|\"Mozilla/5.0 (X11...|    26|2018-11-15 00:41:...|2018|   11|\n",
      "|      Train|Logged In|     Ryan|     M|            2|   Smith|205.45261| free|San Jose-Sunnyval...|   PUT|NextSong|1.541016707796E12|      583|            Marry Me|   200|1542242741796|\"Mozilla/5.0 (X11...|    26|2018-11-15 00:45:...|2018|   11|\n",
      "|Sony Wonder|Logged In|   Samuel|     M|            0|Gonzalez|218.06975| free|Houston-The Woodl...|   PUT|NextSong|1.540492941796E12|      597|           Blackbird|   200|1542253449796|\"Mozilla/5.0 (Mac...|    61|2018-11-15 03:44:...|2018|   11|\n",
      "|  Van Halen|Logged In|    Tegan|     F|            2|  Levine|289.38404| paid|Portland-South Po...|   PUT|NextSong|1.540794356796E12|      602|Best Of Both Worl...|   200|1542260935796|\"Mozilla/5.0 (Mac...|    80|2018-11-15 05:48:...|2018|   11|\n",
      "+-----------+---------+---------+------+-------------+--------+---------+-----+--------------------+------+--------+-----------------+---------+--------------------+------+-------------+--------------------+------+--------------------+----+-----+\n",
      "only showing top 5 rows"
     ]
    }
   ],
   "source": [
    "# DEBUG\n",
    "df.printSchema()\n",
    "df.show(5)"
   ]
  },
  {
   "cell_type": "code",
   "execution_count": 56,
   "id": "0a5a2440",
   "metadata": {},
   "outputs": [
    {
     "data": {
      "application/vnd.jupyter.widget-view+json": {
       "model_id": "6ca0735f8600453e8498cf22e12bb4e1",
       "version_major": 2,
       "version_minor": 0
      },
      "text/plain": [
       "VBox()"
      ]
     },
     "metadata": {},
     "output_type": "display_data"
    },
    {
     "data": {
      "application/vnd.jupyter.widget-view+json": {
       "model_id": "",
       "version_major": 2,
       "version_minor": 0
      },
      "text/plain": [
       "FloatProgress(value=0.0, bar_style='info', description='Progress:', layout=Layout(height='25px', width='50%'),…"
      ]
     },
     "metadata": {},
     "output_type": "display_data"
    }
   ],
   "source": [
    "# read in song data to use for songplays table\n",
    "song_df = spark.read.option(\"mergeSchema\", \"true\") \\\n",
    "               .parquet(output_data + \"songs_data/songs_table.parquet\")"
   ]
  },
  {
   "cell_type": "code",
   "execution_count": 57,
   "id": "53577e1d",
   "metadata": {},
   "outputs": [
    {
     "data": {
      "application/vnd.jupyter.widget-view+json": {
       "model_id": "38d7336519e4410bbcc4be09acf5f5f3",
       "version_major": 2,
       "version_minor": 0
      },
      "text/plain": [
       "VBox()"
      ]
     },
     "metadata": {},
     "output_type": "display_data"
    },
    {
     "data": {
      "application/vnd.jupyter.widget-view+json": {
       "model_id": "",
       "version_major": 2,
       "version_minor": 0
      },
      "text/plain": [
       "FloatProgress(value=0.0, bar_style='info', description='Progress:', layout=Layout(height='25px', width='50%'),…"
      ]
     },
     "metadata": {},
     "output_type": "display_data"
    },
    {
     "name": "stdout",
     "output_type": "stream",
     "text": [
      ">> [24] songs readout from songs_table.PARQUET"
     ]
    }
   ],
   "source": [
    "# DEBUG\n",
    "print('>> [' + str(song_df.count()) + '] songs readout from songs_table.PARQUET')"
   ]
  },
  {
   "cell_type": "code",
   "execution_count": 58,
   "id": "220ee964",
   "metadata": {},
   "outputs": [
    {
     "data": {
      "application/vnd.jupyter.widget-view+json": {
       "model_id": "c5198a3416b74c9c87468bdb2e3e4c41",
       "version_major": 2,
       "version_minor": 0
      },
      "text/plain": [
       "VBox()"
      ]
     },
     "metadata": {},
     "output_type": "display_data"
    },
    {
     "data": {
      "application/vnd.jupyter.widget-view+json": {
       "model_id": "",
       "version_major": 2,
       "version_minor": 0
      },
      "text/plain": [
       "FloatProgress(value=0.0, bar_style='info', description='Progress:', layout=Layout(height='25px', width='50%'),…"
      ]
     },
     "metadata": {},
     "output_type": "display_data"
    },
    {
     "name": "stdout",
     "output_type": "stream",
     "text": [
      "root\n",
      " |-- song_id: string (nullable = true)\n",
      " |-- title: string (nullable = true)\n",
      " |-- duration: double (nullable = true)\n",
      " |-- year: integer (nullable = true)\n",
      " |-- artist_id: string (nullable = true)\n",
      "\n",
      "+------------------+--------------------+---------+----+------------------+\n",
      "|           song_id|               title| duration|year|         artist_id|\n",
      "+------------------+--------------------+---------+----+------------------+\n",
      "|SOKTJDS12AF72A25E5|Drown In My Own T...|  192.522|   0|ARA23XO1187B9AF18F|\n",
      "|SOEKAZG12AB018837E|I'll Slap Your Fa...|129.85424|2001|ARSVTNL1187B992A91|\n",
      "|SOAFBCP12A8C13CC7D|King Of Scurf (20...|301.40036|1972|ARTC1LV1187B9A4858|\n",
      "|SORRNOC12AB017F52B|The Last Beat Of ...|337.81506|2004|ARSZ7L31187FB4E610|\n",
      "|SOQPWCR12A6D4FB2A3|A Poor Recipe For...|118.07302|2005|AR73AIO1187B9AD57B|\n",
      "+------------------+--------------------+---------+----+------------------+\n",
      "only showing top 5 rows"
     ]
    }
   ],
   "source": [
    "# DEBUG\n",
    "song_df.printSchema()\n",
    "song_df.show(5)"
   ]
  },
  {
   "cell_type": "code",
   "execution_count": 64,
   "id": "a2afde9e",
   "metadata": {},
   "outputs": [
    {
     "data": {
      "application/vnd.jupyter.widget-view+json": {
       "model_id": "1e7f2d3164f34b6083cb735257c1db52",
       "version_major": 2,
       "version_minor": 0
      },
      "text/plain": [
       "VBox()"
      ]
     },
     "metadata": {},
     "output_type": "display_data"
    },
    {
     "data": {
      "application/vnd.jupyter.widget-view+json": {
       "model_id": "",
       "version_major": 2,
       "version_minor": 0
      },
      "text/plain": [
       "FloatProgress(value=0.0, bar_style='info', description='Progress:', layout=Layout(height='25px', width='50%'),…"
      ]
     },
     "metadata": {},
     "output_type": "display_data"
    },
    {
     "name": "stdout",
     "output_type": "stream",
     "text": [
      "+------------------+------+--------+----+------------------+\n",
      "|           song_id| title|duration|year|         artist_id|\n",
      "+------------------+------+--------+----+------------------+\n",
      "|SOBLFFE12AF72AA5BA|Scream|213.9424|2009|ARJNIUY12298900C91|\n",
      "+------------------+------+--------+----+------------------+"
     ]
    }
   ],
   "source": [
    "# DEBUG - JOIN - Testing (1/3)\n",
    "df1 = song_df.filter(song_df.title == 'Scream')\n",
    "df1.show(5)"
   ]
  },
  {
   "cell_type": "code",
   "execution_count": 65,
   "id": "c950ae57",
   "metadata": {},
   "outputs": [
    {
     "data": {
      "application/vnd.jupyter.widget-view+json": {
       "model_id": "9f6a93eb5a94437086917f496af71322",
       "version_major": 2,
       "version_minor": 0
      },
      "text/plain": [
       "VBox()"
      ]
     },
     "metadata": {},
     "output_type": "display_data"
    },
    {
     "data": {
      "application/vnd.jupyter.widget-view+json": {
       "model_id": "",
       "version_major": 2,
       "version_minor": 0
      },
      "text/plain": [
       "FloatProgress(value=0.0, bar_style='info', description='Progress:', layout=Layout(height='25px', width='50%'),…"
      ]
     },
     "metadata": {},
     "output_type": "display_data"
    },
    {
     "name": "stdout",
     "output_type": "stream",
     "text": [
      "+---------------+---------+---------+------+-------------+--------+-------+-----+--------------------+------+--------+-----------------+---------+------+------+-------------+--------------------+------+--------------------+----+-----+\n",
      "|         artist|     auth|firstName|gender|itemInSession|lastName| length|level|            location|method|    page|     registration|sessionId|  song|status|           ts|           userAgent|userId|          start_time|year|month|\n",
      "+---------------+---------+---------+------+-------------+--------+-------+-----+--------------------+------+--------+-----------------+---------+------+------+-------------+--------------------+------+--------------------+----+-----+\n",
      "|Michael Jackson|Logged In|     Kate|     F|           32| Harrell|278.282| paid|Lansing-East Lans...|   PUT|NextSong|1.540472624796E12|      605|Scream|   200|1542298745796|\"Mozilla/5.0 (X11...|    97|2018-11-15 16:19:...|2018|   11|\n",
      "+---------------+---------+---------+------+-------------+--------+-------+-----+--------------------+------+--------+-----------------+---------+------+------+-------------+--------------------+------+--------------------+----+-----+"
     ]
    }
   ],
   "source": [
    "# DEBUG - JOIN - Testing (2/3)\n",
    "df2 = df.filter(df.song == 'Scream') # Riverside / Young Boy Blues / Setanta matins\n",
    "df2.show(5)"
   ]
  },
  {
   "cell_type": "code",
   "execution_count": 63,
   "id": "48e57127",
   "metadata": {},
   "outputs": [
    {
     "data": {
      "application/vnd.jupyter.widget-view+json": {
       "model_id": "eb3ad3d19dfb413c9cbdc0244721518a",
       "version_major": 2,
       "version_minor": 0
      },
      "text/plain": [
       "VBox()"
      ]
     },
     "metadata": {},
     "output_type": "display_data"
    },
    {
     "data": {
      "application/vnd.jupyter.widget-view+json": {
       "model_id": "",
       "version_major": 2,
       "version_minor": 0
      },
      "text/plain": [
       "FloatProgress(value=0.0, bar_style='info', description='Progress:', layout=Layout(height='25px', width='50%'),…"
      ]
     },
     "metadata": {},
     "output_type": "display_data"
    },
    {
     "name": "stdout",
     "output_type": "stream",
     "text": [
      "+---------+---------------+\n",
      "|song (df)|title (song_df)|\n",
      "+---------+---------------+\n",
      "|   Scream|         Scream|\n",
      "+---------+---------------+"
     ]
    }
   ],
   "source": [
    "# DEBUG - JOIN - Testing (3/3)\n",
    "df3 = df.join(song_df, song_df.title == df.song ).select(df.song.alias(\"song (df)\"), song_df.title.alias(\"title (song_df)\"))\n",
    "df3.count()\n",
    "df3.show(5)"
   ]
  },
  {
   "cell_type": "code",
   "execution_count": 66,
   "id": "dddf8ef3",
   "metadata": {},
   "outputs": [
    {
     "data": {
      "application/vnd.jupyter.widget-view+json": {
       "model_id": "909ba4081ed344c1859c533f3e41cb0a",
       "version_major": 2,
       "version_minor": 0
      },
      "text/plain": [
       "VBox()"
      ]
     },
     "metadata": {},
     "output_type": "display_data"
    },
    {
     "data": {
      "application/vnd.jupyter.widget-view+json": {
       "model_id": "",
       "version_major": 2,
       "version_minor": 0
      },
      "text/plain": [
       "FloatProgress(value=0.0, bar_style='info', description='Progress:', layout=Layout(height='25px', width='50%'),…"
      ]
     },
     "metadata": {},
     "output_type": "display_data"
    }
   ],
   "source": [
    "# extract columns from joined song and log datasets to create songplays table \n",
    "songplays_table = song_df.join(df, (song_df.title == df.song) ) \\\n",
    "                        .select('start_time', \\\n",
    "                                df.year, \\\n",
    "                                df.month, \\\n",
    "                                col('userId').alias(\"user_id\"), \\\n",
    "                                df.level, \\\n",
    "                                song_df.song_id, \\\n",
    "                                song_df.artist_id, \\\n",
    "                                col('sessionId').alias(\"session_id\"), \\\n",
    "                                df.location, \\\n",
    "                                col('userAgent').alias(\"user_agent\") \\\n",
    "                                )"
   ]
  },
  {
   "cell_type": "code",
   "execution_count": 67,
   "id": "8a544718",
   "metadata": {},
   "outputs": [
    {
     "data": {
      "application/vnd.jupyter.widget-view+json": {
       "model_id": "8e48d99892344117928302433718e187",
       "version_major": 2,
       "version_minor": 0
      },
      "text/plain": [
       "VBox()"
      ]
     },
     "metadata": {},
     "output_type": "display_data"
    },
    {
     "data": {
      "application/vnd.jupyter.widget-view+json": {
       "model_id": "",
       "version_major": 2,
       "version_minor": 0
      },
      "text/plain": [
       "FloatProgress(value=0.0, bar_style='info', description='Progress:', layout=Layout(height='25px', width='50%'),…"
      ]
     },
     "metadata": {},
     "output_type": "display_data"
    }
   ],
   "source": [
    "songplays_table = songplays_table.withColumn(\"songplay_id\", monotonically_increasing_id()) "
   ]
  },
  {
   "cell_type": "code",
   "execution_count": 68,
   "id": "58d998ab",
   "metadata": {},
   "outputs": [
    {
     "data": {
      "application/vnd.jupyter.widget-view+json": {
       "model_id": "9b6d585437aa4a878233863f0f775465",
       "version_major": 2,
       "version_minor": 0
      },
      "text/plain": [
       "VBox()"
      ]
     },
     "metadata": {},
     "output_type": "display_data"
    },
    {
     "data": {
      "application/vnd.jupyter.widget-view+json": {
       "model_id": "",
       "version_major": 2,
       "version_minor": 0
      },
      "text/plain": [
       "FloatProgress(value=0.0, bar_style='info', description='Progress:', layout=Layout(height='25px', width='50%'),…"
      ]
     },
     "metadata": {},
     "output_type": "display_data"
    },
    {
     "name": "stdout",
     "output_type": "stream",
     "text": [
      ">> [1] songs found, on JOIN matching for songsplays_table"
     ]
    }
   ],
   "source": [
    "# DEBUG\n",
    "print('>> [' + str(songplays_table.count()) + '] songs found, on JOIN matching for songsplays_table')"
   ]
  },
  {
   "cell_type": "code",
   "execution_count": null,
   "id": "046986fe",
   "metadata": {},
   "outputs": [],
   "source": [
    "# DEBUG\n",
    "songplays_table.printSchema()\n",
    "songplays_table.show(3)"
   ]
  },
  {
   "cell_type": "code",
   "execution_count": null,
   "id": "4eb4a306",
   "metadata": {},
   "outputs": [],
   "source": [
    "# write songplays table to parquet files partitioned by year and month\n",
    "songplays_table.repartition('year', 'month') \\\n",
    "               .write.partitionBy(\"year\", \"month\") \\\n",
    "               .parquet(output_data + 'songplays_data/songplays_table.parquet', 'overwrite')"
   ]
  },
  {
   "cell_type": "code",
   "execution_count": null,
   "id": "771eeeb2",
   "metadata": {},
   "outputs": [],
   "source": [
    "print('>> END! (main)')"
   ]
  },
  {
   "cell_type": "markdown",
   "id": "a2b65146",
   "metadata": {},
   "source": [
    "### Step 5: Run [etl.py] script  \n",
    "... with working clean code"
   ]
  },
  {
   "cell_type": "code",
   "execution_count": null,
   "id": "95a2fa07",
   "metadata": {},
   "outputs": [],
   "source": [
    "!python 'etl.py' # to be executed at the Jupyter Notebook on AWS!"
   ]
  },
  {
   "cell_type": "markdown",
   "id": "74baf251",
   "metadata": {},
   "source": [
    "### Step 6: Clean up Resources  \n",
    "( EMR, Notbook, S3 )  \n",
    "* Export Jupyter Notebook\n",
    "* Terminate EMR Cluster\n",
    "* Delete S3 Bucket"
   ]
  },
  {
   "cell_type": "markdown",
   "id": "b3e7852d",
   "metadata": {},
   "source": [
    "============ [EOF] ============"
   ]
  }
 ],
 "metadata": {
  "kernelspec": {
   "display_name": "PySpark",
   "language": "",
   "name": "pysparkkernel"
  },
  "language_info": {
   "codemirror_mode": {
    "name": "python",
    "version": 2
   },
   "mimetype": "text/x-python",
   "name": "pyspark",
   "pygments_lexer": "python2"
  }
 },
 "nbformat": 4,
 "nbformat_minor": 5
}
